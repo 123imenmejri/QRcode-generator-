{
  "cells": [
    {
      "cell_type": "code",
      "execution_count": null,
      "metadata": {
        "id": "KgevO1WCtiVK"
      },
      "outputs": [],
      "source": [
        "#Make a QR code generator in python : "
      ]
    },
    {
      "cell_type": "code",
      "execution_count": null,
      "metadata": {
        "colab": {
          "base_uri": "https://localhost:8080/"
        },
        "id": "qhhAYXV08Vx3",
        "outputId": "5e5bf459-c223-40c9-8eb0-ba6588d5c68c"
      },
      "outputs": [
        {
          "name": "stdout",
          "output_type": "stream",
          "text": [
            "Looking in indexes: https://pypi.org/simple, https://us-python.pkg.dev/colab-wheels/public/simple/\n",
            "Collecting qrcode\n",
            "  Downloading qrcode-7.3.1.tar.gz (43 kB)\n",
            "\u001b[K     |████████████████████████████████| 43 kB 944 kB/s \n",
            "\u001b[?25hBuilding wheels for collected packages: qrcode\n",
            "  Building wheel for qrcode (setup.py) ... \u001b[?25l\u001b[?25hdone\n",
            "  Created wheel for qrcode: filename=qrcode-7.3.1-py3-none-any.whl size=40400 sha256=17bec96ec50d9225b8853ace8480ef072f925ae048d7d0587abd628e881575ed\n",
            "  Stored in directory: /root/.cache/pip/wheels/35/fd/04/2768886c56207acee0d6dc6b9bd5d06dac63a810f0c0a42516\n",
            "Successfully built qrcode\n",
            "Installing collected packages: qrcode\n",
            "Successfully installed qrcode-7.3.1\n"
          ]
        }
      ],
      "source": [
        "!pip install qrcode"
      ]
    },
    {
      "cell_type": "code",
      "execution_count": null,
      "metadata": {
        "id": "e7eGL4IhEgrO"
      },
      "outputs": [],
      "source": [
        "# Importing library\n",
        "import qrcode  \n",
        "from PIL import Image\n",
        "\n",
        "qr=qrcode.QRCode(version =1,error_correction=qrcode.constants.ERROR_CORRECT_H,box_size=10,border=4)\n",
        "\n",
        "# Adding data to the instance 'qr'\n",
        "qr.add_data(\"https://gomycode.com/TN-FR/hmoe\")\n",
        "qr.make(fit = True)\n",
        "\n",
        "img=qr.make_image(fill_color ='blue',back_color = 'white')\n",
        "img.save(\"/content/sample_data/qrcode1.png\")"
      ]
    },
    {
      "cell_type": "code",
      "execution_count": null,
      "metadata": {
        "id": "jE_qW7p8H8mO"
      },
      "outputs": [],
      "source": [
        "# Importing library\n",
        "import qrcode \n",
        "from PIL import Image\n",
        "qr=qrcode.QRCode(version =1,error_correction=qrcode.constants.ERROR_CORRECT_H,box_size=10,border=4)\n",
        "\n",
        "# Adding data to the instance 'qr'\n",
        "qr.add_data(\"https://www.youtube.com/@GoMyCode\")\n",
        "qr.make(fit = True)\n",
        "\n",
        "img=qr.make_image(fill_color ='black',back_color = 'white')\n",
        "img.save(\"/content/sample_data/qrcode2.png\")"
      ]
    }
  ],
  "metadata": {
    "colab": {
      "provenance": []
    },
    "kernelspec": {
      "display_name": "Python 3",
      "name": "python3"
    },
    "language_info": {
      "name": "python"
    }
  },
  "nbformat": 4,
  "nbformat_minor": 0
}